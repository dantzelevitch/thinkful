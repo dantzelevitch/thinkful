{
 "cells": [
  {
   "cell_type": "markdown",
   "metadata": {},
   "source": [
    "A diagnostic test has a 98% probability of giving a positive result when applied to a person suffering from Thripshaw's Disease, and 10% probability of giving a (false) positive when applied to a non-sufferer. It is estimated that 0.5 % of the population are sufferers. Suppose that the test is now administered to a person whose disease status is unknown. Calculate the probability that the test will:\n",
    "\n",
    "Be positive  =   10.44%\n",
    "Correctly diagnose a sufferer of Thripshaw's = 98%\n",
    "Correctly identify a non-sufferer of Thripshaw's  = 90%\n",
    "Misclassify the person  =  9.96%"
   ]
  },
  {
   "cell_type": "code",
   "execution_count": 37,
   "metadata": {},
   "outputs": [
    {
     "data": {
      "text/plain": [
       "10.44"
      ]
     },
     "execution_count": 37,
     "metadata": {},
     "output_type": "execute_result"
    }
   ],
   "source": [
    "#Probably of test being positive\n",
    "\n",
    "#= prob true positive +  prob of false positive\n",
    "#= prob of having the disease (.5%) * prob of getting positive result (98%)\n",
    "#.   +.  prob not having disease (99.5%) * prob of getting positive (10%)\n",
    "((.5/100 * 98/100) +  (99.5/100 * 10/100)) * 100"
   ]
  },
  {
   "cell_type": "code",
   "execution_count": 38,
   "metadata": {},
   "outputs": [
    {
     "data": {
      "text/plain": [
       "9.959999999999999"
      ]
     },
     "execution_count": 38,
     "metadata": {},
     "output_type": "execute_result"
    }
   ],
   "source": [
    "#prob misclassify\n",
    "\n",
    "#prob false positive + prob false negative\n",
    "#(99.5% * 10%)  +  (.5% * 2%)\n",
    "((99.5/100 * 10/100) + (.5/100 * 2/100))*100"
   ]
  },
  {
   "cell_type": "code",
   "execution_count": null,
   "metadata": {},
   "outputs": [],
   "source": []
  }
 ],
 "metadata": {
  "kernelspec": {
   "display_name": "Python 3",
   "language": "python",
   "name": "python3"
  },
  "language_info": {
   "codemirror_mode": {
    "name": "ipython",
    "version": 3
   },
   "file_extension": ".py",
   "mimetype": "text/x-python",
   "name": "python",
   "nbconvert_exporter": "python",
   "pygments_lexer": "ipython3",
   "version": "3.7.0"
  }
 },
 "nbformat": 4,
 "nbformat_minor": 2
}
