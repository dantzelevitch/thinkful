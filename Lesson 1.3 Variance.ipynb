{
 "cells": [
  {
   "cell_type": "markdown",
   "metadata": {},
   "source": [
    "1. Greg was 14, Marcia was 12, Peter was 11, Jan was 10, Bobby was 8, and Cindy was 6 when they started playing the Brady kids on The Brady Bunch. Cousin Oliver was 8 years old when he joined the show. What are the mean, median, and mode of the kids' ages when they first appeared on the show? What are the variance, standard deviation, and standard error?\n",
    "\n",
    "Mean = (14 + 12 + 11 + 10 + 8 + 6 + 8) / 7\n",
    "     = (69) / 7\n",
    "     =  9.86\n",
    "     \n",
    "Variance = ((14-9.86)**2 + (12-9.86)**2. + (11-9.86)**2. + (10-9.86)**2 + (8-9.86)**2 + (6-9.86)**2 + (8-9.86)**2  ) / (7-1)\n",
    "         = 7.47\n",
    "         \n",
    "Standard Deviation = v **.5\n",
    "                   = 7.47 ** .5 = 2.73\n",
    "\n",
    "Standard Error = s / (n**.5)\n",
    "               = 7.47 / (7 **.5) = 2.82\n",
    "               \n",
    "\n",
    "2. Using these estimates, if you had to choose only one estimate of central tendency and one estimate of variance to describe the data, which would you pick and why?\n",
    "\n",
    "I would choose mean for central tendency.  Without a median it is the closest indicator.\n",
    "I would choose standard deviation to describe the variance.  It describes how much variation between each age.  \n",
    "\n",
    "3. Nothing changes once Cindy has a birthday because the values are based on the ages when the kids first appeared on the show.\n",
    "\n",
    "4. Nobody likes Cousin Oliver. Maybe the network should have used an even younger actor. Replace Cousin Oliver with 1-year-old Jessica, then recalculate again. Does this change your choice of central tendency or variance estimation methods?\n",
    "\n",
    "By changing Oliver to 1 year old Jessica, the mean changed slightly to ___.   \n",
    "The standard deviation changed to 4.33, much less than the variance which changed to 18.8.\n",
    "The standard error changed to 1.64.\n",
    "\n",
    "5. On the 50th anniversary of The Brady Bunch, four different magazines asked their readers whether they were fans of the show. The answers were: TV Guide 20% fans Entertainment Weekly 23% fans Pop Culture Today 17% fans SciPhi Phanatic 5% fans.  Based on these numbers, what percentage of adult Americans would you estimate were Brady Bunch fans on the 50th anniversary of the show?\n",
    "\n",
    "20%.  TV Guide is the best sample of adult americans.\n",
    "\n",
    "\n"
   ]
  },
  {
   "cell_type": "code",
   "execution_count": 24,
   "metadata": {},
   "outputs": [
    {
     "data": {
      "text/plain": [
       "count     7.000000\n",
       "mean      9.857143\n",
       "std       2.734262\n",
       "min       6.000000\n",
       "25%       8.000000\n",
       "50%      10.000000\n",
       "75%      11.500000\n",
       "max      14.000000\n",
       "Name: ages, dtype: float64"
      ]
     },
     "execution_count": 24,
     "metadata": {},
     "output_type": "execute_result"
    }
   ],
   "source": [
    "import pandas as pd\n",
    "\n",
    "df = pd.DataFrame()\n",
    "df['ages'] = [14,12,11,10,8,6,8]\n",
    "df['ages'].var()\n",
    "df['ages'].describe()"
   ]
  },
  {
   "cell_type": "code",
   "execution_count": 26,
   "metadata": {},
   "outputs": [
    {
     "data": {
      "text/plain": [
       "count     7.000000\n",
       "mean      8.857143\n",
       "std       4.336995\n",
       "min       1.000000\n",
       "25%       7.000000\n",
       "50%      10.000000\n",
       "75%      11.500000\n",
       "max      14.000000\n",
       "Name: ages, dtype: float64"
      ]
     },
     "execution_count": 26,
     "metadata": {},
     "output_type": "execute_result"
    }
   ],
   "source": [
    "#change the last value from 8 to 1\n",
    "df['ages'] = [14,12,11,10,8,6,1]\n",
    "df['ages'].var()\n",
    "df['ages'].describe()"
   ]
  }
 ],
 "metadata": {
  "kernelspec": {
   "display_name": "Python 3",
   "language": "python",
   "name": "python3"
  },
  "language_info": {
   "codemirror_mode": {
    "name": "ipython",
    "version": 3
   },
   "file_extension": ".py",
   "mimetype": "text/x-python",
   "name": "python",
   "nbconvert_exporter": "python",
   "pygments_lexer": "ipython3",
   "version": "3.7.0"
  }
 },
 "nbformat": 4,
 "nbformat_minor": 2
}
