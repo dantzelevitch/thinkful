{
 "cells": [
  {
   "cell_type": "code",
   "execution_count": 81,
   "metadata": {},
   "outputs": [
    {
     "name": "stdout",
     "output_type": "stream",
     "text": [
      "-----Showing all nodes of tree with built in function-----\n",
      "87[0]\n",
      "└── 2[1]\n",
      "    ├── 6[2]\n",
      "    │   ├── 71[4]\n",
      "    │   │   ├── 27[9]\n",
      "    │   │   └── 55[8]\n",
      "    │   └── 74[5]\n",
      "    │       ├── 57[11]\n",
      "    │       └── 90[10]\n",
      "    └── 69[3]\n",
      "        ├── 12[6]\n",
      "        │   ├── 1[13]\n",
      "        │   └── 89[12]\n",
      "        └── 13[7]\n",
      "            ├── 32[14]\n",
      "            └── 93[15]\n",
      "\n",
      "-----Showing all nodes of tree with custom traversing program-----\n",
      "Node 0: value 87\n",
      "Node 1: value 2\n",
      "Node 2: value 6\n",
      "Node 3: value 69\n",
      "Node 4: value 71\n",
      "Node 5: value 74\n",
      "Node 6: value 12\n",
      "Node 7: value 13\n",
      "Node 8: value 55\n",
      "Node 9: value 27\n",
      "Node 10: value 90\n",
      "Node 11: value 57\n",
      "Node 12: value 89\n",
      "Node 13: value 1\n",
      "Node 14: value 32\n",
      "Node 15: value 93\n"
     ]
    }
   ],
   "source": [
    "# Implement a binary tree, which is filled with 15 pieces of random data. \n",
    "# Your job is to then write a program to traverse the tree using a breadth \n",
    "# first traversal. If you want additional practice, \n",
    "# try other forms of traversal.\n",
    "\n",
    "import random\n",
    "\n",
    "from treelib import Node, Tree\n",
    "tree = Tree()\n",
    "tree.create_node(tag=random.randint(1,101), identifier=0)  # root node\n",
    "\n",
    "x = 1\n",
    "parent = 0\n",
    "while x <= 15:\n",
    "    if x % 2 == 0:\n",
    "        parent += 1\n",
    "    tree.create_node(tag=random.randint(1,101), identifier=x, parent=parent )\n",
    "    x += 1\n",
    "    \n",
    "\n",
    "print('-----Showing all nodes of tree with built in function-----')\n",
    "tree.show(idhidden=False)\n",
    "\n",
    "print('-----Showing all nodes of tree with custom traversing program-----')\n",
    "x = 0\n",
    "while x <= 15:\n",
    "    print('Node {}: value {}'.format(x,tree.get_node(x).tag))\n",
    "    x += 1"
   ]
  },
  {
   "cell_type": "code",
   "execution_count": null,
   "metadata": {},
   "outputs": [],
   "source": []
  }
 ],
 "metadata": {
  "kernelspec": {
   "display_name": "Python 3",
   "language": "python",
   "name": "python3"
  },
  "language_info": {
   "codemirror_mode": {
    "name": "ipython",
    "version": 3
   },
   "file_extension": ".py",
   "mimetype": "text/x-python",
   "name": "python",
   "nbconvert_exporter": "python",
   "pygments_lexer": "ipython3",
   "version": "3.7.0"
  }
 },
 "nbformat": 4,
 "nbformat_minor": 2
}
